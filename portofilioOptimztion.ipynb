{
 "cells": [
  {
   "cell_type": "markdown",
   "metadata": {},
   "source": [
    "# Automating Portfolio Optimization in Pytho\n",
    "\n",
    "https://towardsdatascience.com/automating-portfolio-optimization-using-python-9f344b9380b9"
   ]
  },
  {
   "cell_type": "code",
   "execution_count": 225,
   "metadata": {},
   "outputs": [],
   "source": [
    "import quantstats as qs\n",
    "import pandas as pd\n",
    "import yfinance as yf\n",
    "import statsmodels.api as sm\n",
    "import getFamaFrenchFactors as gff\n",
    "import datetime as dt\n",
    "\n",
    "import numpy as np \n",
    "# Used to grab the stock prices, with yahoo \n",
    "import pandas_datareader as web \n",
    "#from datetime import datetime \n",
    "# To visualize the results \n",
    "import matplotlib.pyplot as plt \n",
    "import seaborn\n",
    "import quantstats as qs\n",
    "\n",
    "#Importing all required libraries\n",
    "import matplotlib.pyplot as plt\n",
    "import numpy as np\n",
    "import pandas as pd\n",
    "import pandas_datareader as web\n",
    "from matplotlib.ticker import FuncFormatter\n"
   ]
  },
  {
   "cell_type": "code",
   "execution_count": 248,
   "metadata": {},
   "outputs": [
    {
     "data": {
      "text/plain": [
       "113.11901081916538"
      ]
     },
     "execution_count": 248,
     "metadata": {},
     "output_type": "execute_result"
    }
   ],
   "source": [
    "x = 25.68*114 /25.880\n",
    "x"
   ]
  },
  {
   "cell_type": "code",
   "execution_count": 190,
   "metadata": {},
   "outputs": [
    {
     "name": "stdout",
     "output_type": "stream",
     "text": [
      "Requirement already satisfied: PyPortfolioOpt in /opt/homebrew/Caskroom/miniforge/base/lib/python3.9/site-packages (1.5.3)\n",
      "Requirement already satisfied: cvxpy<2.0.0,>=1.1.10 in /opt/homebrew/Caskroom/miniforge/base/lib/python3.9/site-packages (from PyPortfolioOpt) (1.2.1)\n",
      "Requirement already satisfied: pandas>=0.19 in /opt/homebrew/Caskroom/miniforge/base/lib/python3.9/site-packages (from PyPortfolioOpt) (1.4.4)\n",
      "Requirement already satisfied: scipy<2.0,>=1.3 in /opt/homebrew/Caskroom/miniforge/base/lib/python3.9/site-packages (from PyPortfolioOpt) (1.9.1)\n",
      "Requirement already satisfied: numpy<2.0.0,>=1.22.4 in /opt/homebrew/Caskroom/miniforge/base/lib/python3.9/site-packages (from PyPortfolioOpt) (1.23.2)\n",
      "Requirement already satisfied: osqp>=0.4.1 in /opt/homebrew/Caskroom/miniforge/base/lib/python3.9/site-packages (from cvxpy<2.0.0,>=1.1.10->PyPortfolioOpt) (0.6.2.post5)\n",
      "Requirement already satisfied: scs>=1.1.6 in /opt/homebrew/Caskroom/miniforge/base/lib/python3.9/site-packages (from cvxpy<2.0.0,>=1.1.10->PyPortfolioOpt) (3.2.0)\n",
      "Requirement already satisfied: ecos>=2 in /opt/homebrew/Caskroom/miniforge/base/lib/python3.9/site-packages (from cvxpy<2.0.0,>=1.1.10->PyPortfolioOpt) (2.0.10)\n",
      "Requirement already satisfied: python-dateutil>=2.8.1 in /opt/homebrew/Caskroom/miniforge/base/lib/python3.9/site-packages (from pandas>=0.19->PyPortfolioOpt) (2.8.2)\n",
      "Requirement already satisfied: pytz>=2020.1 in /opt/homebrew/Caskroom/miniforge/base/lib/python3.9/site-packages (from pandas>=0.19->PyPortfolioOpt) (2022.2.1)\n",
      "Requirement already satisfied: qdldl in /opt/homebrew/Caskroom/miniforge/base/lib/python3.9/site-packages (from osqp>=0.4.1->cvxpy<2.0.0,>=1.1.10->PyPortfolioOpt) (0.1.5.post2)\n",
      "Requirement already satisfied: six>=1.5 in /opt/homebrew/Caskroom/miniforge/base/lib/python3.9/site-packages (from python-dateutil>=2.8.1->pandas>=0.19->PyPortfolioOpt) (1.16.0)\n"
     ]
    }
   ],
   "source": [
    "!pip install PyPortfolioOpt\n"
   ]
  },
  {
   "cell_type": "code",
   "execution_count": 226,
   "metadata": {},
   "outputs": [],
   "source": [
    "from pypfopt.efficient_frontier import EfficientFrontier\n",
    "from pypfopt import risk_models\n",
    "from pypfopt import expected_returns\n",
    "from pypfopt.cla import CLA\n",
    "import pypfopt.plotting as pplt\n",
    "from matplotlib.ticker import FuncFormatter\n",
    "from pypfopt import discrete_allocation"
   ]
  },
  {
   "cell_type": "markdown",
   "metadata": {},
   "source": [
    "Guys putting all together we have this \n",
    "\n",
    "Order Imbalance\n",
    "- Clear buy: NVDA, BIDU, SBUX\n",
    "- Clear sell: TMO, XOM, FUTU, CRWD, LMT\n",
    "\n",
    "Fama French three factors \n",
    "- Clear Buy:\"NVDA\",\"ADBE\",\"BIDU\",\"FTNT\",\"TCEHY\",\"CSCO\"\n",
    "- Clear Sell: 7203.T,PEP,JNJ,IBM,TCOM,LMT,XOM\n",
    "\n",
    "Relative Investing : \n",
    "- Clear Sell : \"MU\",\"CRWD\",\"PANW\",\"ZS\",\"BEPC\",\"PAC\",\"BIDU\"\n",
    "\n",
    "Diversifcation :\n",
    "- Remove : 'AAPL','FTNT'\n",
    "\n",
    "We are investing in, I have used some optimiztion to reduce volatility and increase the sharpe ratio\n",
    "\n",
    "Discrete allocation (HRP): {'BSL': 1343, 'C6L.SI': 2865, 'NEE': 189, 'DBS': 438, 'SBUX': 82, 'VBR': 44, 'CSCO': 154, 'JPM': 35, 'ADBE': 13, 'MA': 13, 'YUMC': 96, 'TCEHY': 114, 'NVDA': 20, 'BA': 12}\n",
    "Funds remaining (HRP): $9.16\n",
    "\n",
    "Expected annual return: 10.0%\n",
    "Expected Annual volatility: 15.9%\n",
    "Expected Sharpe Ratio: 0.50\n",
    "\n",
    "If everyine is fine with this then i will invest tomorrow\n",
    "Can give a thumbs up if you ok with it. Thanks.\n"
   ]
  },
  {
   "cell_type": "code",
   "execution_count": 2,
   "metadata": {},
   "outputs": [],
   "source": [
    "import pandas as pd\n",
    "tickers = pd.read_excel(\"BidAskVolume.xlsx\")\n",
    "tickers=list(tickers.loc[1].dropna().drop_duplicates().values)\n",
    "tickers=[i.split()[0] for i in tickers]\n",
    "len(tickers)\n",
    "# update tickers\n",
    "tickers.remove(\"RFMD\")\n",
    "tickers.append(\"BSL\")\n",
    "tickers.remove(\"SIA\")\n",
    "tickers.append(\"C6L.SI\")\n",
    "tickers.remove(\"7203\")\n",
    "tickers.append(\"7203.T\")"
   ]
  },
  {
   "cell_type": "code",
   "execution_count": 3,
   "metadata": {},
   "outputs": [],
   "source": [
    "relative_sell = [\"MU\",\"CRWD\",\"PANW\",\"ZS\",\"BEPC\",\"PAC\",\"BIDU\"]\n",
    "order_sell = [\"TMO\", \"XOM\", \"FUTU\", \"CRWD\", \"LMT\"]\n",
    "fama_sell = [\"7203.T\",\"PEP\",\"JNJ\",\"IBM\",\"TCOM\",\"LMT\",\"XOM\"]\n",
    "diversification = ['AAPL', 'FTNT']\n",
    "sell = fama_sell+order_sell+relative_sell+diversification"
   ]
  },
  {
   "cell_type": "code",
   "execution_count": 4,
   "metadata": {},
   "outputs": [
    {
     "data": {
      "text/plain": [
       "13"
      ]
     },
     "execution_count": 4,
     "metadata": {},
     "output_type": "execute_result"
    }
   ],
   "source": [
    "len(tickers)-len(set(sell))"
   ]
  },
  {
   "cell_type": "code",
   "execution_count": 5,
   "metadata": {},
   "outputs": [
    {
     "name": "stdout",
     "output_type": "stream",
     "text": [
      "XOM\n",
      "LMT\n",
      "CRWD\n",
      "PAC\n"
     ]
    },
    {
     "data": {
      "text/plain": [
       "14"
      ]
     },
     "execution_count": 5,
     "metadata": {},
     "output_type": "execute_result"
    }
   ],
   "source": [
    "for i in sell:\n",
    "    try:\n",
    "        tickers.remove(i)\n",
    "    except:\n",
    "        print(i)\n",
    "        continue\n",
    "len(tickers)"
   ]
  },
  {
   "cell_type": "code",
   "execution_count": 7,
   "metadata": {},
   "outputs": [
    {
     "data": {
      "text/plain": [
       "['ADBE',\n",
       " 'BA',\n",
       " 'BSL',\n",
       " 'C6L.SI',\n",
       " 'CSCO',\n",
       " 'DBS',\n",
       " 'JPM',\n",
       " 'MA',\n",
       " 'NEE',\n",
       " 'NVDA',\n",
       " 'SBUX',\n",
       " 'TCEHY',\n",
       " 'VBR',\n",
       " 'YUMC']"
      ]
     },
     "execution_count": 7,
     "metadata": {},
     "output_type": "execute_result"
    }
   ],
   "source": [
    "tickers.sort()\n",
    "tickers\n"
   ]
  },
  {
   "cell_type": "code",
   "execution_count": 249,
   "metadata": {},
   "outputs": [
    {
     "name": "stdout",
     "output_type": "stream",
     "text": [
      "NVDA       51\n",
      "BA         51\n",
      "CSCO       51\n",
      "NEE        51\n",
      "VBR        51\n",
      "DBS        51\n",
      "JPM        51\n",
      "YUMC      503\n",
      "TCEHY      51\n",
      "ADBE       51\n",
      "SBUX       51\n",
      "MA         51\n",
      "BSL        51\n",
      "C6L.SI     57\n",
      "dtype: int64\n"
     ]
    }
   ],
   "source": [
    "# scraping data of decided stock to invest\n",
    "thelen = len(tickers)\n",
    "price_data = []\n",
    "for ticker in range(thelen):\n",
    "    prices = web.DataReader(tickers[ticker], start='2015-01-01', end = '2022-10-25', data_source='yahoo')\n",
    "    price_data.append(prices.assign(ticker=ticker)[['Adj Close']])\n",
    "df_stocks = pd.concat(price_data, axis=1)\n",
    "df_stocks.columns=tickers\n",
    "df_stocks.head()\n",
    "\n",
    "#Checking if any NaN values in the data\n",
    "nullin_df = pd.DataFrame(df_stocks,columns=tickers)\n",
    "print(nullin_df.isnull().sum())"
   ]
  },
  {
   "cell_type": "markdown",
   "metadata": {},
   "source": [
    "# MAX-Sharpe and Min_vol"
   ]
  },
  {
   "cell_type": "code",
   "execution_count": 184,
   "metadata": {},
   "outputs": [],
   "source": [
    "#Annualized Return\n",
    "mu = expected_returns.mean_historical_return(df_stocks)\n",
    "#Sample Variance of Portfolio\n",
    "Sigma = risk_models.sample_cov(df_stocks)"
   ]
  },
  {
   "cell_type": "code",
   "execution_count": 185,
   "metadata": {},
   "outputs": [
    {
     "name": "stdout",
     "output_type": "stream",
     "text": [
      "OrderedDict([('NVDA', 1.0), ('BA', -0.47723), ('CSCO', -0.45162), ('NEE', 1.0), ('VBR', -1.0), ('DBS', 0.02598), ('JPM', 0.85429), ('YUMC', -0.05243), ('TCEHY', -0.12901), ('ADBE', -0.05477), ('SBUX', 0.06446), ('MA', 0.61241), ('BSL', 0.13482), ('C6L.SI', -0.5269)])\n"
     ]
    }
   ],
   "source": [
    "#Max Sharpe Ratio - Tangent to the EF\n",
    "ef = EfficientFrontier(mu, Sigma, weight_bounds=(-1,1)) #weight bounds in negative allows shorting of stocks\n",
    "sharpe_pfolio=ef.max_sharpe() #May use add objective to ensure minimum zero weighting to individual stocks\n",
    "sharpe_pwt=ef.clean_weights()\n",
    "print(sharpe_pwt)"
   ]
  },
  {
   "cell_type": "code",
   "execution_count": 186,
   "metadata": {},
   "outputs": [
    {
     "name": "stdout",
     "output_type": "stream",
     "text": [
      "Expected annual return: 78.6%\n",
      "Annual volatility: 56.4%\n",
      "Sharpe Ratio: 1.36\n"
     ]
    },
    {
     "data": {
      "text/plain": [
       "(0.7864109076738474, 0.5636738878509548, 1.3596707674287365)"
      ]
     },
     "execution_count": 186,
     "metadata": {},
     "output_type": "execute_result"
    }
   ],
   "source": [
    "# Get portfolio performance\n",
    "ef.portfolio_performance(verbose=True)  # 2 year risk free rate - Treasury Yield would set risk_free_rate=0.27"
   ]
  },
  {
   "cell_type": "code",
   "execution_count": 187,
   "metadata": {},
   "outputs": [
    {
     "name": "stdout",
     "output_type": "stream",
     "text": [
      "OrderedDict([('NVDA', 0.0), ('BA', 0.0), ('CSCO', 0.09687), ('NEE', 0.13541), ('VBR', 0.0), ('DBS', 0.15903), ('JPM', 0.0), ('YUMC', 0.02847), ('TCEHY', 0.00486), ('ADBE', 0.0), ('SBUX', 0.00363), ('MA', 0.0), ('BSL', 0.3658), ('C6L.SI', 0.20593)])\n"
     ]
    }
   ],
   "source": [
    "# Minimum Volatility Portfolio\n",
    "ef2 = EfficientFrontier(mu, Sigma, weight_bounds=(0,1))  # weight_bounds in negative allows shorting of stocks\n",
    "minvol = ef2.min_volatility()\n",
    "minvol_pwt = ef2.clean_weights()\n",
    "print(minvol_pwt)"
   ]
  },
  {
   "cell_type": "code",
   "execution_count": 188,
   "metadata": {},
   "outputs": [
    {
     "name": "stdout",
     "output_type": "stream",
     "text": [
      "Expected annual return: 3.0%\n",
      "Annual volatility: 13.1%\n",
      "Sharpe Ratio: 0.07\n"
     ]
    },
    {
     "data": {
      "text/plain": [
       "(0.029714650016791456, 0.13100553803786494, 0.074154498827245)"
      ]
     },
     "execution_count": 188,
     "metadata": {},
     "output_type": "execute_result"
    }
   ],
   "source": [
    "# Get MinVol portfolio performance\n",
    "ef2.portfolio_performance(verbose=True)  # 2 year risk free rate - Treasury Yield would set risk_free_rate=0.27"
   ]
  },
  {
   "cell_type": "code",
   "execution_count": 153,
   "metadata": {},
   "outputs": [
    {
     "name": "stdout",
     "output_type": "stream",
     "text": [
      "{'CSCO': 223, 'NEE': 185, 'DBS': 609, 'YUMC': 73, 'TCEHY': 19, 'SBUX': 4, 'BSL': 2940, 'C6L.SI': 4086}\n",
      "Leftover Fund value in$ after building minimum volatility portfolio is $17.34\n"
     ]
    }
   ],
   "source": [
    "latest_prices = discrete_allocation.get_latest_prices(df_stocks)\n",
    "# Allocate Portfolio Value in $ as required to show number of shares/stocks to buy, also bounds for shorting will affect allocation\n",
    "#Min Volatility Portfolio Allocation $10000\n",
    "allocation_minv, rem_minv = discrete_allocation.DiscreteAllocation(minvol_pwt, latest_prices, total_portfolio_value=100000).lp_portfolio()\n",
    "print(allocation_minv)\n",
    "print(\"Leftover Fund value in$ after building minimum volatility portfolio is ${:.2f}\".format(rem_minv))"
   ]
  },
  {
   "cell_type": "code",
   "execution_count": 154,
   "metadata": {},
   "outputs": [
    {
     "data": {
      "image/png": "[encoded data removed]",
      "text/plain": [
       "<Figure size 1000x600 with 1 Axes>"
      ]
     },
     "metadata": {},
     "output_type": "display_data"
    }
   ],
   "source": [
    "# Plot the Efficient Frontier for visual puposes\n",
    "cl_obj = CLA(mu, Sigma)\n",
    "ax = pplt.plot_efficient_frontier(cl_obj, showfig=False)\n",
    "ax.xaxis.set_major_formatter(FuncFormatter(lambda x, _: \"{:.0%}\".format(x)))\n",
    "ax.yaxis.set_major_formatter(FuncFormatter(lambda y, _: \"{:.0%}\".format(y)))"
   ]
  },
  {
   "cell_type": "code",
   "execution_count": 155,
   "metadata": {},
   "outputs": [
    {
     "data": {
      "text/plain": [
       "NVDA      125.989998\n",
       "BA        142.050003\n",
       "CSCO       43.540001\n",
       "NEE        73.279999\n",
       "VBR       153.279999\n",
       "DBS        26.093800\n",
       "JPM       122.379997\n",
       "YUMC       38.840000\n",
       "TCEHY      25.680000\n",
       "SBUX       83.760002\n",
       "BSL        12.440000\n",
       "C6L.SI      5.040000\n",
       "Name: 2022-10-24 00:00:00, dtype: float64"
      ]
     },
     "execution_count": 155,
     "metadata": {},
     "output_type": "execute_result"
    }
   ],
   "source": [
    "# Get latest prices\n",
    "latest_prices = discrete_allocation.get_latest_prices(df_stocks)\n",
    "latest_prices"
   ]
  },
  {
   "cell_type": "code",
   "execution_count": 156,
   "metadata": {},
   "outputs": [
    {
     "name": "stdout",
     "output_type": "stream",
     "text": [
      "\n",
      "Allocating long sub-portfolio:\n",
      "\n",
      "Allocating short sub-portfolio:\n",
      "{'NVDA': 239, 'NEE': 410, 'DBS': 53, 'JPM': 234, 'SBUX': 64, 'BSL': 358, 'BA': -282, 'CSCO': -736, 'VBR': -652, 'YUMC': -65, 'TCEHY': -410, 'C6L.SI': -9382}\n",
      "Leftover fund after building Max Sharpe Portfolio is $89.76\n"
     ]
    }
   ],
   "source": [
    "# Allocate Portfolio Value in $ as required to show number of shares/stocks to buy\n",
    "# Max Sharpe Ratio Portfolio Allocation $10,000\n",
    "allocation_shp, rem_shp = discrete_allocation.DiscreteAllocation(sharpe_pwt, latest_prices, total_portfolio_value=100000).lp_portfolio(verbose=True)\n",
    "print(allocation_shp)\n",
    "print(\"Leftover fund after building Max Sharpe Portfolio is ${:.2f}\".format(rem_shp))"
   ]
  },
  {
   "cell_type": "markdown",
   "metadata": {},
   "source": [
    "# HRP\n",
    "https://builtin.com/data-science/portfolio-optimization-python"
   ]
  },
  {
   "cell_type": "code",
   "execution_count": 250,
   "metadata": {},
   "outputs": [],
   "source": [
    "from pypfopt import HRPOpt\n"
   ]
  },
  {
   "cell_type": "code",
   "execution_count": 251,
   "metadata": {},
   "outputs": [],
   "source": [
    "returns = df_stocks.pct_change().dropna()"
   ]
  },
  {
   "cell_type": "code",
   "execution_count": 252,
   "metadata": {},
   "outputs": [],
   "source": [
    "hrp = HRPOpt(returns)\n",
    "hrp_weights = hrp.optimize()"
   ]
  },
  {
   "cell_type": "code",
   "execution_count": 236,
   "metadata": {},
   "outputs": [
    {
     "name": "stdout",
     "output_type": "stream",
     "text": [
      "Expected annual return: 9.9%\n",
      "Annual volatility: 15.9%\n",
      "Sharpe Ratio: 0.50\n",
      "{'ADBE': 0.0416083731441074, 'BA': 0.017321437540238044, 'BSL': 0.1670230552748511, 'C6L.SI': 0.1444052349521648, 'CSCO': 0.06719110448096295, 'DBS': 0.11435867372893743, 'JPM': 0.042300181083950464, 'MA': 0.04006538163176601, 'NEE': 0.13806422538801777, 'NVDA': 0.025136545086770948, 'SBUX': 0.06828029702191452, 'TCEHY': 0.02934209179770717, 'VBR': 0.06785378547543765, 'YUMC': 0.03704961339317375}\n"
     ]
    }
   ],
   "source": [
    "hrp.portfolio_performance(verbose=True)\n",
    "print(dict(hrp_weights))"
   ]
  },
  {
   "cell_type": "code",
   "execution_count": 253,
   "metadata": {},
   "outputs": [
    {
     "data": {
      "text/plain": [
       "NVDA      132.091003\n",
       "BA        145.830002\n",
       "CSCO       44.084999\n",
       "NEE        75.709999\n",
       "VBR       156.265793\n",
       "DBS        32.760000\n",
       "JPM       122.974998\n",
       "YUMC       40.439999\n",
       "TCEHY      25.820000\n",
       "ADBE      322.415009\n",
       "SBUX       84.879997\n",
       "MA        308.755005\n",
       "BSL        12.375000\n",
       "C6L.SI      5.030000\n",
       "Name: 2022-10-25 00:00:00, dtype: float64"
      ]
     },
     "execution_count": 253,
     "metadata": {},
     "output_type": "execute_result"
    }
   ],
   "source": [
    "# Get latest prices\n",
    "latest_prices = discrete_allocation.get_latest_prices(df_stocks)\n",
    "latest_prices['DBS']=32.760\n",
    "latest_prices"
   ]
  },
  {
   "cell_type": "code",
   "execution_count": 254,
   "metadata": {},
   "outputs": [
    {
     "name": "stdout",
     "output_type": "stream",
     "text": [
      "Discrete allocation (HRP): {'BSL': 1351, 'C6L.SI': 2874, 'NEE': 182, 'DBS': 349, 'SBUX': 80, 'VBR': 44, 'CSCO': 152, 'JPM': 34, 'ADBE': 13, 'MA': 13, 'YUMC': 91, 'TCEHY': 113, 'NVDA': 19, 'BA': 12}\n",
      "Funds remaining (HRP): $1.93\n"
     ]
    }
   ],
   "source": [
    "da_hrp = discrete_allocation.DiscreteAllocation(hrp_weights, latest_prices, total_portfolio_value=100000)\n",
    "\n",
    "allocation, leftover = da_hrp.greedy_portfolio()\n",
    "print(\"Discrete allocation (HRP):\", allocation)\n",
    "print(\"Funds remaining (HRP): ${:.2f}\".format(leftover))"
   ]
  },
  {
   "cell_type": "code",
   "execution_count": 1,
   "metadata": {},
   "outputs": [
    {
     "ename": "NameError",
     "evalue": "name 'allocation' is not defined",
     "output_type": "error",
     "traceback": [
      "\u001b[0;31m---------------------------------------------------------------------------\u001b[0m",
      "\u001b[0;31mNameError\u001b[0m                                 Traceback (most recent call last)",
      "\u001b[1;32m/Users/pratham/Desktop/22S1/investments/portofilioOptimztion.ipynb Cell 29\u001b[0m in \u001b[0;36m<cell line: 1>\u001b[0;34m()\u001b[0m\n\u001b[0;32m----> <a href='vscode-notebook-cell:/Users/pratham/Desktop/22S1/investments/portofilioOptimztion.ipynb#X56sZmlsZQ%3D%3D?line=0'>1</a>\u001b[0m allocation\n",
      "\u001b[0;31mNameError\u001b[0m: name 'allocation' is not defined"
     ]
    }
   ],
   "source": []
  },
  {
   "cell_type": "markdown",
   "metadata": {},
   "source": [
    "# Mean Conditional Value at Risk (mCVAR)\n"
   ]
  },
  {
   "cell_type": "code",
   "execution_count": 163,
   "metadata": {},
   "outputs": [],
   "source": [
    "from pypfopt.efficient_frontier import EfficientCVaR\n"
   ]
  },
  {
   "cell_type": "code",
   "execution_count": 164,
   "metadata": {},
   "outputs": [
    {
     "name": "stdout",
     "output_type": "stream",
     "text": [
      "{'NVDA': 0.0, 'BA': 0.03461, 'CSCO': 0.0, 'NEE': 0.0, 'VBR': 0.0, 'DBS': 0.38766, 'JPM': 0.0, 'YUMC': 0.0, 'TCEHY': 0.0, 'SBUX': 0.0, 'BSL': 0.0, 'C6L.SI': 0.57773}\n"
     ]
    }
   ],
   "source": [
    "#Annualized Return\n",
    "mu = expected_returns.mean_historical_return(df_stocks)\n",
    "#Sample Variance of Portfolio\n",
    "S = df_stocks.cov()\n",
    "ef_cvar = EfficientCVaR(mu, S)\n",
    "cvar_weights = ef_cvar.min_cvar()\n",
    "\n",
    "cleaned_weights = ef_cvar.clean_weights()\n",
    "print(dict(cleaned_weights))"
   ]
  },
  {
   "cell_type": "code",
   "execution_count": 165,
   "metadata": {},
   "outputs": [
    {
     "name": "stdout",
     "output_type": "stream",
     "text": [
      "Discrete allocation (CVAR): {'C6L.SI': 11462, 'DBS': 1486, 'BA': 24, 'YUMC': 1}\n",
      "Funds remaining (CVAR): $8.09\n"
     ]
    }
   ],
   "source": [
    "da_cvar = discrete_allocation.DiscreteAllocation(cvar_weights, latest_prices, total_portfolio_value=100000)\n",
    "\n",
    "allocation, leftover = da_cvar.greedy_portfolio()\n",
    "print(\"Discrete allocation (CVAR):\", allocation)\n",
    "print(\"Funds remaining (CVAR): ${:.2f}\".format(leftover))"
   ]
  },
  {
   "cell_type": "markdown",
   "metadata": {},
   "source": [
    "# Mean Variance Optimization\n"
   ]
  },
  {
   "cell_type": "code",
   "execution_count": 166,
   "metadata": {},
   "outputs": [],
   "source": [
    "from pypfopt.expected_returns import mean_historical_return\n",
    "from pypfopt.risk_models import CovarianceShrinkage\n",
    "\n",
    "\n",
    "mu = mean_historical_return(df_stocks)\n",
    "S = CovarianceShrinkage(df_stocks).ledoit_wolf()"
   ]
  },
  {
   "cell_type": "code",
   "execution_count": 167,
   "metadata": {},
   "outputs": [
    {
     "name": "stdout",
     "output_type": "stream",
     "text": [
      "{'NVDA': 0.57095, 'BA': 0.0, 'CSCO': 0.0, 'NEE': 0.42905, 'VBR': 0.0, 'DBS': 0.0, 'JPM': 0.0, 'YUMC': 0.0, 'TCEHY': 0.0, 'SBUX': 0.0, 'BSL': 0.0, 'C6L.SI': 0.0}\n"
     ]
    }
   ],
   "source": [
    "from pypfopt.efficient_frontier import EfficientFrontier\n",
    "\n",
    "ef = EfficientFrontier(mu, S)\n",
    "weights = ef.max_sharpe()\n",
    "\n",
    "cleaned_weights = ef.clean_weights()\n",
    "print(dict(cleaned_weights))"
   ]
  },
  {
   "cell_type": "code",
   "execution_count": 168,
   "metadata": {},
   "outputs": [
    {
     "name": "stdout",
     "output_type": "stream",
     "text": [
      "Expected annual return: 35.7%\n",
      "Annual volatility: 31.0%\n",
      "Sharpe Ratio: 1.09\n"
     ]
    },
    {
     "data": {
      "text/plain": [
       "(0.35718891927503355, 0.3098643244797978, 1.0881824483702938)"
      ]
     },
     "execution_count": 168,
     "metadata": {},
     "output_type": "execute_result"
    }
   ],
   "source": [
    "ef.portfolio_performance(verbose=True)\n"
   ]
  },
  {
   "cell_type": "code",
   "execution_count": 169,
   "metadata": {},
   "outputs": [
    {
     "name": "stdout",
     "output_type": "stream",
     "text": [
      "Discrete allocation: {'NVDA': 453, 'NEE': 585}\n",
      "Funds remaining: $57.73\n"
     ]
    }
   ],
   "source": [
    "from pypfopt.discrete_allocation import DiscreteAllocation, get_latest_prices\n",
    "\n",
    "latest_prices = get_latest_prices(df_stocks)\n",
    "\n",
    "da = DiscreteAllocation(weights, latest_prices, total_portfolio_value=100000)\n",
    "\n",
    "allocation, leftover = da.greedy_portfolio()\n",
    "print(\"Discrete allocation:\", allocation)\n",
    "print(\"Funds remaining: ${:.2f}\".format(leftover))"
   ]
  },
  {
   "cell_type": "markdown",
   "metadata": {},
   "source": [
    "# Portfolio evaluation"
   ]
  },
  {
   "cell_type": "code",
   "execution_count": 203,
   "metadata": {},
   "outputs": [
    {
     "data": {
      "text/plain": [
       "NVDA      0.470635\n",
       "BA        0.417212\n",
       "CSCO      0.259873\n",
       "NEE       0.232533\n",
       "VBR       0.219035\n",
       "DBS       0.268183\n",
       "JPM       0.283246\n",
       "YUMC      0.311812\n",
       "TCEHY     0.381239\n",
       "ADBE      0.321696\n",
       "SBUX      0.269319\n",
       "MA        0.282347\n",
       "BSL       0.178922\n",
       "C6L.SI    0.246944\n",
       "dtype: float64"
      ]
     },
     "execution_count": 203,
     "metadata": {},
     "output_type": "execute_result"
    }
   ],
   "source": [
    "qs.stats.volatility(df_stocks)"
   ]
  },
  {
   "cell_type": "code",
   "execution_count": 205,
   "metadata": {},
   "outputs": [
    {
     "data": {
      "text/plain": [
       "NVDA      0.407731\n",
       "BA        0.027805\n",
       "CSCO      0.087235\n",
       "NEE       0.150863\n",
       "VBR       0.065332\n",
       "DBS       0.007586\n",
       "JPM       0.111608\n",
       "YUMC      0.057477\n",
       "TCEHY     0.074080\n",
       "ADBE      0.183556\n",
       "SBUX      0.106853\n",
       "MA        0.164280\n",
       "BSL       0.033096\n",
       "C6L.SI   -0.089718\n",
       "dtype: float64"
      ]
     },
     "execution_count": 205,
     "metadata": {},
     "output_type": "execute_result"
    }
   ],
   "source": [
    "qs.stats.expected_return(df_stocks)*252"
   ]
  },
  {
   "cell_type": "code",
   "execution_count": 218,
   "metadata": {},
   "outputs": [],
   "source": [
    "portfolio_value=0\n",
    "for i in allocation:\n",
    "    portfolio_value+= df_stocks.dropna()[i]*allocation[i]"
   ]
  }
 ],
 "metadata": {
  "kernelspec": {
   "display_name": "Python 3.9.13 ('base')",
   "language": "python",
   "name": "python3"
  },
  "language_info": {
   "codemirror_mode": {
    "name": "ipython",
    "version": 3
   },
   "file_extension": ".py",
   "mimetype": "text/x-python",
   "name": "python",
   "nbconvert_exporter": "python",
   "pygments_lexer": "ipython3",
   "version": "3.9.13"
  },
  "orig_nbformat": 4,
  "vscode": {
   "interpreter": {
    "hash": "c6e4e9f98eb68ad3b7c296f83d20e6de614cb42e90992a65aa266555a3137d0d"
   }
  }
 },
 "nbformat": 4,
 "nbformat_minor": 2
}
